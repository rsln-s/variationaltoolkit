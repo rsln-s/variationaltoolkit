{
 "cells": [
  {
   "cell_type": "code",
   "execution_count": 1,
   "metadata": {},
   "outputs": [
    {
     "name": "stdout",
     "output_type": "stream",
     "text": [
      "Can't find the mpsbackend module, continuing without it\n"
     ]
    },
    {
     "name": "stderr",
     "output_type": "stream",
     "text": [
      "[2020-07-31 18:42:22,266] {C:\\Users\\Kevin Gui\\Documents\\GitHub\\variationaltoolkit\\variationaltoolkit\\__init__.py:19} WARNING - Failed loading VariationalQuantumOptimizerAPOSMM, ignoring the following error: 'No module named 'mpi4py''\n"
     ]
    }
   ],
   "source": [
    "from variationaltoolkit.stuart_mis_utils.stuartansatzfunctions import stuart_one_run, stuart_compute_energy_avg, stuart_compute_energy_average_min\n",
    "from qiskit.tools.visualization import plot_histogram\n",
    "from variationaltoolkit.qaoaplus_mis_utils.misqaoaplusfunctions import qaoaplus_one_run, qaoaplus_compute_energy_avg_with_pruning, qaoaplus_compute_energy_average_min\n",
    "import networkx as nx"
   ]
  },
  {
   "cell_type": "code",
   "execution_count": 2,
   "metadata": {},
   "outputs": [
    {
     "data": {
      "image/png": "[encoded data removed]",
      "text/plain": [
       "<Figure size 432x288 with 1 Axes>"
      ]
     },
     "metadata": {},
     "output_type": "display_data"
    }
   ],
   "source": [
    "import networkx as nx\n",
    "elist = [[0,2],[0,4],[1,2],[1,4],[0,3],[1,3]]\n",
    "G = nx.OrderedGraph()\n",
    "G.add_edges_from(elist)\n",
    "# w = nx.adjacency_matrix(G, nodelist=range(G.number_of_nodes()))\n",
    "nx.draw(G)"
   ]
  },
  {
   "cell_type": "code",
   "execution_count": null,
   "metadata": {},
   "outputs": [],
   "source": [
    "qaoaplus_one_run(1, G, initial_state_variation='all_hadamard')"
   ]
  },
  {
   "cell_type": "code",
   "execution_count": null,
   "metadata": {},
   "outputs": [],
   "source": [
    "stuart_one_run(1, G, initial_state_variation='w_state')"
   ]
  },
  {
   "cell_type": "code",
   "execution_count": null,
   "metadata": {},
   "outputs": [],
   "source": [
    "stuart_one_run(1, G)"
   ]
  },
  {
   "cell_type": "code",
   "execution_count": null,
   "metadata": {},
   "outputs": [],
   "source": [
    "from variationaltoolkit.misqaoaplusfunctions import qaoaplus_one_run, qaoaplus_compute_energy_avg_with_pruning, qaoaplus_compute_energy_average_min"
   ]
  },
  {
   "cell_type": "code",
   "execution_count": 4,
   "metadata": {},
   "outputs": [],
   "source": [
    "def qaoaplus_compute_min(p, num_experiment_iter, G, initial_state_variation='all_zero', energy_prunning=False):\n",
    "    energy_min = 0\n",
    "    for i in range(num_experiment_iter):\n",
    "        print (\"experiment=\",i)\n",
    "        if energy_prunning == False:\n",
    "            counts, res = qaoaplus_one_run(1, G, initial_state_variation=initial_state_variation, print_out_res=False)\n",
    "            current_energy = res['min_val']\n",
    "        else:\n",
    "            current_energy = qaoaplus_compute_energy_avg_with_pruning(1, G, initial_state_variation=initial_state_variation)\n",
    "        if current_energy < energy_min:\n",
    "            energy_min = current_energy\n",
    "    print('the mininum energy is : ' + str(energy_min))\n",
    "    return energy_min"
   ]
  },
  {
   "cell_type": "code",
   "execution_count": 7,
   "metadata": {},
   "outputs": [
    {
     "name": "stdout",
     "output_type": "stream",
     "text": [
      "seed= 4\n",
      "experiment= 0\n",
      "Found optimal solution: (-1, array([0, 0, 1, 0]))\n",
      "experiment= 1\n",
      "Found optimal solution: (-1, array([0, 0, 1, 0]))\n",
      "experiment= 2\n",
      "Found optimal solution: (-1, array([0, 0, 1, 0]))\n",
      "the mininum energy is : -0.5956\n",
      "min_energy= -0.5956\n",
      "seed= 5\n",
      "experiment= 0\n",
      "Found optimal solution: (-4, array([1, 1, 1, 1]))\n",
      "experiment= 1\n",
      "Found optimal solution: (-4, array([1, 1, 1, 1]))\n",
      "experiment= 2\n",
      "Found optimal solution: (-4, array([1, 1, 1, 1]))\n",
      "the mininum energy is : -3.9974\n",
      "min_energy= -3.9974\n",
      "seed= 6\n",
      "experiment= 0\n",
      "Found optimal solution: (-2, array([0, 1, 1, 1]))\n",
      "experiment= 1\n",
      "Found optimal solution: (-2, array([0, 1, 1, 1]))\n",
      "experiment= 2\n",
      "Found optimal solution: (-2, array([0, 1, 1, 1]))\n",
      "the mininum energy is : -1.7982\n",
      "min_energy= -1.7982\n",
      "seed= 7\n",
      "experiment= 0\n",
      "Found optimal solution: (-2, array([1, 0, 1, 0]))\n",
      "experiment= 1\n",
      "Found optimal solution: (-2, array([1, 0, 1, 0]))\n",
      "experiment= 2\n",
      "Found optimal solution: (-2, array([1, 0, 1, 0]))\n",
      "the mininum energy is : -1.448\n",
      "min_energy= -1.448\n",
      "seed= 8\n",
      "experiment= 0\n",
      "Found optimal solution: (-2, array([0, 1, 1, 1]))\n",
      "experiment= 1\n",
      "Found optimal solution: (-2, array([0, 1, 1, 1]))\n",
      "experiment= 2\n",
      "Found optimal solution: (-2, array([0, 1, 1, 1]))\n",
      "the mininum energy is : -1.464\n",
      "min_energy= -1.464\n",
      "seed= 9\n",
      "experiment= 0\n",
      "Found optimal solution: (-2, array([1, 1, 1, 0]))\n",
      "experiment= 1\n",
      "Found optimal solution: (-2, array([1, 1, 1, 0]))\n",
      "experiment= 2\n",
      "Found optimal solution: (-2, array([1, 1, 1, 0]))\n",
      "the mininum energy is : -1.4718\n",
      "min_energy= -1.4718\n",
      "[-0.5956, -3.9974, -1.7982, -1.448, -1.464, -1.4718]\n",
      "6\n",
      "-1.7958333333333334\n",
      "1.938\n"
     ]
    }
   ],
   "source": [
    "#connect\n",
    "n = 4\n",
    "d = 2\n",
    "# be careful!\n",
    "A=[]\n",
    "for seed in range(4,10):\n",
    "    print(\"seed=\", seed)\n",
    "    G = nx.gnp_random_graph(n, d/n, seed=seed)\n",
    "    min_energy = qaoaplus_compute_min(1, 3, G, initial_state_variation='all_hadamard', energy_prunning=False)\n",
    "    print(\"min_energy=\", min_energy)\n",
    "    A.append(min_energy)\n",
    "print(A)\n",
    "print(len(A))\n",
    "print(sum(A)/len(A))\n",
    "print(0.969* 4/2)"
   ]
  },
  {
   "cell_type": "code",
   "execution_count": 9,
   "metadata": {},
   "outputs": [
    {
     "name": "stdout",
     "output_type": "stream",
     "text": [
      "seed= 4\n",
      "experiment= 0\n",
      "Found optimal solution: (-1, array([0, 0, 1, 0]))\n",
      "the energy of the solution is -0.9825523429710867\n",
      "feasible solution percetage ratio is\n",
      "40.12%\n",
      "\n",
      "experiment= 1\n",
      "Found optimal solution: (-1, array([0, 0, 1, 0]))\n",
      "the energy of the solution is -0.8572372769332453\n",
      "feasible solution percetage ratio is\n",
      "30.259999999999998%\n",
      "\n",
      "experiment= 2\n",
      "Found optimal solution: (-1, array([0, 0, 1, 0]))\n",
      "the energy of the solution is -0.9561878952122854\n",
      "feasible solution percetage ratio is\n",
      "44.28%\n",
      "\n",
      "the mininum energy is : -0.9825523429710867\n",
      "min_energy= -0.9825523429710867\n",
      "seed= 5\n",
      "experiment= 0\n",
      "Found optimal solution: (-4, array([1, 1, 1, 1]))\n",
      "the energy of the solution is -3.9998\n",
      "feasible solution percetage ratio is\n",
      "100.0%\n",
      "\n",
      "experiment= 1\n",
      "Found optimal solution: (-4, array([1, 1, 1, 1]))\n",
      "the energy of the solution is -4.0\n",
      "feasible solution percetage ratio is\n",
      "100.0%\n",
      "\n",
      "experiment= 2\n",
      "Found optimal solution: (-4, array([1, 1, 1, 1]))\n",
      "the energy of the solution is -4.0\n",
      "feasible solution percetage ratio is\n",
      "100.0%\n",
      "\n",
      "the mininum energy is : -4.0\n",
      "min_energy= -4.0\n",
      "seed= 6\n",
      "experiment= 0\n",
      "Found optimal solution: (-2, array([0, 1, 1, 1]))\n",
      "the energy of the solution is -1.9083715118700542\n",
      "feasible solution percetage ratio is\n",
      "48.02%\n",
      "\n",
      "experiment= 1\n",
      "Found optimal solution: (-2, array([0, 1, 1, 1]))\n",
      "the energy of the solution is -1.889988128215275\n",
      "feasible solution percetage ratio is\n",
      "50.54%\n",
      "\n",
      "experiment= 2\n",
      "Found optimal solution: (-2, array([0, 1, 1, 1]))\n",
      "the energy of the solution is -1.9067315490673156\n",
      "feasible solution percetage ratio is\n",
      "49.32%\n",
      "\n",
      "the mininum energy is : -1.9083715118700542\n",
      "min_energy= -1.9083715118700542\n",
      "seed= 7\n",
      "experiment= 0\n",
      "Found optimal solution: (-2, array([1, 0, 1, 0]))\n",
      "the energy of the solution is -1.687523417010116\n",
      "feasible solution percetage ratio is\n",
      "53.38%\n",
      "\n",
      "experiment= 1\n",
      "Found optimal solution: (-2, array([1, 0, 1, 0]))\n",
      "the energy of the solution is -1.4303523035230352\n",
      "feasible solution percetage ratio is\n",
      "36.9%\n",
      "\n",
      "experiment= 2\n",
      "Found optimal solution: (-2, array([1, 0, 1, 0]))\n",
      "the energy of the solution is -1.3083743842364532\n",
      "feasible solution percetage ratio is\n",
      "40.6%\n",
      "\n",
      "the mininum energy is : -1.687523417010116\n",
      "min_energy= -1.687523417010116\n",
      "seed= 8\n",
      "experiment= 0\n",
      "Found optimal solution: (-2, array([0, 1, 1, 1]))\n",
      "the energy of the solution is -1.4334580438268305\n",
      "feasible solution percetage ratio is\n",
      "37.419999999999995%\n",
      "\n",
      "experiment= 1\n",
      "Found optimal solution: (-2, array([0, 1, 1, 1]))\n",
      "the energy of the solution is -1.7093206951026856\n",
      "feasible solution percetage ratio is\n",
      "50.63999999999999%\n",
      "\n",
      "experiment= 2\n",
      "Found optimal solution: (-2, array([0, 1, 1, 1]))\n",
      "the energy of the solution is -1.4221132897603486\n",
      "feasible solution percetage ratio is\n",
      "36.720000000000006%\n",
      "\n",
      "the mininum energy is : -1.7093206951026856\n",
      "min_energy= -1.7093206951026856\n",
      "seed= 9\n",
      "experiment= 0\n",
      "Found optimal solution: (-2, array([1, 1, 1, 0]))\n",
      "the energy of the solution is -1.6399239543726236\n",
      "feasible solution percetage ratio is\n",
      "52.6%\n",
      "\n",
      "experiment= 1\n",
      "Found optimal solution: (-2, array([1, 1, 1, 0]))\n",
      "the energy of the solution is -1.6656592368719305\n",
      "feasible solution percetage ratio is\n",
      "52.94%\n",
      "\n",
      "experiment= 2\n",
      "Found optimal solution: (-2, array([1, 1, 1, 0]))\n",
      "the energy of the solution is -1.6716904276985742\n",
      "feasible solution percetage ratio is\n",
      "49.1%\n",
      "\n",
      "the mininum energy is : -1.6716904276985742\n",
      "min_energy= -1.6716904276985742\n",
      "[-0.9825523429710867, -4.0, -1.9083715118700542, -1.687523417010116, -1.7093206951026856, -1.6716904276985742]\n",
      "6\n",
      "-1.9932430657754197\n",
      "1.938\n"
     ]
    }
   ],
   "source": [
    "#connect\n",
    "n = 4\n",
    "d = 2\n",
    "# be careful!\n",
    "A=[]\n",
    "for seed in range(4,10):\n",
    "    print(\"seed=\", seed)\n",
    "    G = nx.gnp_random_graph(n, d/n, seed=seed)\n",
    "    min_energy = qaoaplus_compute_min(1, 3, G, initial_state_variation='all_hadamard', energy_prunning=True)\n",
    "    print(\"min_energy=\", min_energy)\n",
    "    A.append(min_energy)\n",
    "print(A)\n",
    "print(len(A))\n",
    "print(sum(A)/len(A))\n",
    "print(0.969* 4/2)"
   ]
  },
  {
   "cell_type": "code",
   "execution_count": null,
   "metadata": {},
   "outputs": [],
   "source": [
    "[-0.6716, -4.0, -1.6112, -1.3414, -1.1156, -1.0096]\n",
    "[-0.942939784380752, -4.0, -1.6066790352504638, -1.1295774647887324, -1.4948733413751507, -1.578660860097986]"
   ]
  },
  {
   "cell_type": "code",
   "execution_count": null,
   "metadata": {},
   "outputs": [],
   "source": [
    "# edgelists of some other interesting graphs\n",
    "\n",
    "elist_dict = {\n",
    "        'trivial_8nodes' : [[0,1], [1,2], [2,3], [3,4], [4,5], [5,6], [4,7]],\n",
    "        'trivial_9nodes' : [[0,1], [1,2], [2,3], [3,4], [4,5], [5,6], [4,7], [0,8]],\n",
    "        'l3': [[0,1], [1,2], [2,3], [3,4], [4,5], [5,0], [1,4]],\n",
    "        'k34': [[0,3], [0,4], [0,5], [0,6], [1,3], [1,4], [1,5], [1,6], [2,3], [2,4], [2,5],[2,6]],\n",
    "        'c5' : [[0,1], [1,2], [2,3], [3,4], [4,0]],\n",
    "        'c8' : [[0,1], [1,2], [2,3], [3,4], [4,5], [5,6], [6,7], [7,0]],\n",
    "        'peterson' : [\n",
    "                [0,1],[1,2],[2,3],[3,4],[4,0],\n",
    "                [0,5],[1,6],[2,7],[3,8],[4,9],\n",
    "                [5,7],[5,8],[6,8],[6,9],[7,9]\n",
    "            ],\n",
    "        'heawood' : [(0, 1), (0, 13), (0, 5), (1, 2), (1, 10), (2, 3), (2, 7), (3, 4), (3, 12), (4, 5), (4, 9), (5, 6), (6, 7), (6, 11), (7, 8), (8, 9), (8, 13), (9, 10), (10, 11), (11, 12), (12, 13)],\n",
    "        'pappus' : [(0, 1), (0, 17), (0, 5), (1, 2), (1, 8), (2, 3), (2, 13), (3, 4), (3, 10), (4, 5), (4, 15), (5, 6), (6, 7), (6, 11), (7, 8), (7, 14), (8, 9), (9, 10), (9, 16), (10, 11), (11, 12), (12, 13), (12, 17), (13, 14), (14, 15), (15, 16), (16, 17)],\n",
    "        'desargues' : [(0, 1), (0, 19), (0, 5), (1, 2), (1, 16), (2, 3), (2, 11), (3, 4), (3, 14), (4, 5), (4, 9), (5, 6), (6, 7), (6, 15), (7, 8), (7, 18), (8, 9), (8, 13), (9, 10), (10, 11), (10, 19), (11, 12), (12, 13), (12, 17), (13, 14), (14, 15), (15, 16), (16, 17), (17, 18), (18, 19)],\n",
    "        'dodecahedral' : [(0, 1), (0, 19), (0, 10), (1, 2), (1, 8), (2, 3), (2, 6), (3, 4), (3, 19), (4, 5), (4, 17), (5, 6), (5, 15), (6, 7), (7, 8), (7, 14), (8, 9), (9, 10), (9, 13), (10, 11), (11, 12), (11, 18), (12, 13), (12, 16), (13, 14), (14, 15), (15, 16), (16, 17), (17, 18), (18, 19)],\n",
    "        'moebius_kantor' : [(0, 1), (0, 15), (0, 5), (1, 2), (1, 12), (2, 3), (2, 7), (3, 4), (3, 14), (4, 5), (4, 9), (5, 6), (6, 7), (6, 11), (7, 8), (8, 9), (8, 13), (9, 10), (10, 11), (10, 15), (11, 12), (12, 13), (13, 14), (14, 15)],\n",
    "        'icosahedral' : [(0, 1), (0, 5), (0, 7), (0, 8), (0, 11), (1, 2), (1, 5), (1, 6), (1, 8), (2, 3), (2, 6), (2, 8), (2, 9), (3, 4), (3, 6), (3, 9), (3, 10), (4, 5), (4, 6), (4, 10), (4, 11), (5, 6), (5, 11), (7, 8), (7, 9), (7, 10), (7, 11), (8, 9), (9, 10), (10, 11)]\n",
    "}\n",
    "\n",
    "elist = elist_dict['peterson']\n",
    "G = nx.OrderedGraph()\n",
    "G.add_edges_from(elist)\n",
    "\n",
    "# Some others\n",
    "\n",
    "G = nx.generators.classic.wheel_graph(n)\n",
    "\n"
   ]
  },
  {
   "cell_type": "code",
   "execution_count": null,
   "metadata": {},
   "outputs": [],
   "source": [
    "#connecte\n",
    "n = 4\n",
    "d = 2\n",
    "# be careful!\n",
    "A=[]\n",
    "for seed in range(4,10):\n",
    "    print(\"seed=\", seed)\n",
    "    G = nx.gnp_random_graph(n, d/n, seed=seed)\n",
    "    min_energy = qaoaplus_compute_min(1, 5, G)\n",
    "    print(\"min_energy=\", min_energy)\n",
    "    A.append(min_energy)\n",
    "print(A)\n",
    "print(len(A))\n",
    "print(sum(A)/len(A))\n",
    "print(0.969* 4/2)\n",
    "\n",
    "# 1.64 1.00 1.87"
   ]
  },
  {
   "cell_type": "code",
   "execution_count": null,
   "metadata": {},
   "outputs": [],
   "source": [
    "n = 14\n",
    "d = 3\n",
    "# be careful!\n",
    "A=[]\n",
    "for seed in range(0,40):\n",
    "    G = nx.gnp_random_graph(n, d/n, seed=seed)\n",
    "    if nx.is_connected(G):\n",
    "        min_energy = qaoaplus_compute_min(1, 20, G)\n",
    "        print(“min_energy=“, min_energy)\n",
    "        A.append(min_energy)\n",
    "print(A)\n",
    "print(len(A))\n",
    "print(sum(A)/len(A))\n",
    "print(0.969* 14/3)"
   ]
  }
 ],
 "metadata": {
  "kernelspec": {
   "display_name": "Python 3",
   "language": "python",
   "name": "python3"
  },
  "language_info": {
   "codemirror_mode": {
    "name": "ipython",
    "version": 3
   },
   "file_extension": ".py",
   "mimetype": "text/x-python",
   "name": "python",
   "nbconvert_exporter": "python",
   "pygments_lexer": "ipython3",
   "version": "3.6.10"
  }
 },
 "nbformat": 4,
 "nbformat_minor": 4
}
