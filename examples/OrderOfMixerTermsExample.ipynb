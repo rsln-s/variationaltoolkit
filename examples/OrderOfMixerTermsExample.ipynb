{
 "cells": [
  {
   "cell_type": "code",
   "execution_count": 1,
   "metadata": {},
   "outputs": [
    {
     "name": "stdout",
     "output_type": "stream",
     "text": [
      "Can't find the mpsbackend module, continuing without it\n"
     ]
    },
    {
     "name": "stderr",
     "output_type": "stream",
     "text": [
      "[2020-05-31 10:42:18,971] {/home/rshaydu/quantum/variationaltoolkit/variationaltoolkit/__init__.py:19} WARNING - Failed loading VariationalQuantumOptimizerAPOSMM, ignoring the following error: 'No module named 'libensemble''\n"
     ]
    }
   ],
   "source": [
    "import numpy as np\n",
    "import networkx as nx\n",
    "import sys\n",
    "from itertools import product\n",
    "from variationaltoolkit import VarForm\n",
    "from variationaltoolkit.utils import mact, get_max_independent_set_operator\n",
    "from qiskit import QuantumCircuit, QuantumRegister, ClassicalRegister\n",
    "from qiskit.circuit import Parameter\n",
    "from variationaltoolkit import VariationalQuantumOptimizerSequential"
   ]
  },
  {
   "cell_type": "markdown",
   "metadata": {},
   "source": [
    "# Let's solve maximum independent set on this graph\n",
    "\n",
    "$G = K_{2,3}$"
   ]
  },
  {
   "cell_type": "code",
   "execution_count": 2,
   "metadata": {},
   "outputs": [
    {
     "data": {
      "image/png": "[encoded data removed]",
      "text/plain": [
       "<Figure size 432x288 with 1 Axes>"
      ]
     },
     "metadata": {},
     "output_type": "display_data"
    }
   ],
   "source": [
    "elist = [[0,2],[0,4],[1,2],[1,4],[0,3],[1,3]]\n",
    "G = nx.OrderedGraph()\n",
    "G.add_edges_from(elist)\n",
    "vertex_num = G.number_of_nodes()\n",
    "w = nx.adjacency_matrix(G, nodelist=range(vertex_num))\n",
    "pos = nx.bipartite_layout(G, [0,1])\n",
    "nx.draw(G, pos=pos)"
   ]
  },
  {
   "cell_type": "code",
   "execution_count": 5,
   "metadata": {
    "scrolled": true
   },
   "outputs": [
    {
     "name": "stderr",
     "output_type": "stream",
     "text": [
      "[2020-05-31 10:43:35,483] {/home/rshaydu/quantum/variationaltoolkit/variationaltoolkit/objectivewrapper.py:79} INFO - called at step 0, objective: -3.0 at point [1.57079633 0.        ]\n"
     ]
    }
   ],
   "source": [
    "mixer_order = [0,1,2,3,4] #objective 2\n",
    "mixer_order = [4,3,2,1,0] #objective 3\n",
    "\n",
    "def obj(x):\n",
    "    return -sum(x)\n",
    "\n",
    "# Set level to INFO to print optimization progress\n",
    "import logging\n",
    "from variationaltoolkit.utils import set_log_level\n",
    "set_log_level(logging.INFO)\n",
    "\n",
    "# Generate cost Hamiltonian\n",
    "C, offset = get_max_independent_set_operator(vertex_num)\n",
    "\n",
    "# First, allocate registers\n",
    "qu = QuantumRegister(vertex_num)\n",
    "ancilla_for_multi_toffoli = QuantumRegister(vertex_num - 2)\n",
    "ancilla_for_rx = QuantumRegister(1)\n",
    "cu = ClassicalRegister(vertex_num)\n",
    "\n",
    "# Mixer circuit\n",
    "beta = Parameter('beta')\n",
    "mixer_circuit = QuantumCircuit(qu, ancilla_for_multi_toffoli, ancilla_for_rx, cu)\n",
    "for u in mixer_order:\n",
    "    mixer_circuit.barrier()\n",
    "    mact(mixer_circuit, list(qu[x] for x in G.neighbors(u)), ancilla_for_rx, ancilla_for_multi_toffoli)\n",
    "\n",
    "    mixer_circuit.mcrx(2 * beta, ancilla_for_rx, qu[u])\n",
    "    mixer_circuit.barrier()\n",
    "\n",
    "    mact(mixer_circuit, list(qu[x] for x in G.neighbors(u)), ancilla_for_rx, ancilla_for_multi_toffoli)\n",
    "\n",
    "# Measurement circuit \n",
    "measurement_circuit = QuantumCircuit(qu, ancilla_for_multi_toffoli, ancilla_for_rx, cu)\n",
    "measurement_circuit.measure(qu, cu)\n",
    "\n",
    "# For the purposes of this example, I've precomputed a good initial point\n",
    "# You can pass None and it'll generate a random one for you\n",
    "initial_point = np.array([ 6.04102059,  3.74579808, -5.50077232, -3.18254589, -0.61572468,\n",
    "         4.51305444, -0.47617092,  5.97028743,  2.51725288, -2.20904592,\n",
    "        -5.38950718,  2.09493441,  1.23907814, -1.45952838, -3.57838767,\n",
    "        -3.66236095, -2.67445383,  3.00190345,  2.84712677,  5.13521998])\n",
    "\n",
    "# pass it all to VariationalQuantumOptimizer\n",
    "varopt = VariationalQuantumOptimizerSequential(\n",
    "    obj,\n",
    "    'COBYLA',\n",
    "    initial_point=[np.pi/2, 0],\n",
    "    optimizer_parameters={'maxiter':1},\n",
    "    backend_description={'package':'qiskit', 'provider':'Aer', 'name':'qasm_simulator'},\n",
    "    problem_description={'offset': offset},\n",
    "    varform_description={\n",
    "        'name':'QAOA',\n",
    "        'p':1,\n",
    "        'cost_operator':C,\n",
    "        'num_qubits':vertex_num, 'use_mixer_circuit':True,\n",
    "        'mixer_circuit':mixer_circuit,\n",
    "        'measurement_circuit': measurement_circuit,\n",
    "        'qregs':[qu, ancilla_for_multi_toffoli, ancilla_for_rx, cu]\n",
    "    },\n",
    "    execute_parameters={'shots': 5000}\n",
    "    )\n",
    "res = varopt.optimize()"
   ]
  },
  {
   "cell_type": "code",
   "execution_count": null,
   "metadata": {},
   "outputs": [],
   "source": []
  }
 ],
 "metadata": {
  "kernelspec": {
   "display_name": "variationaltoolkit",
   "language": "python",
   "name": "variationaltoolkit"
  },
  "language_info": {
   "codemirror_mode": {
    "name": "ipython",
    "version": 3
   },
   "file_extension": ".py",
   "mimetype": "text/x-python",
   "name": "python",
   "nbconvert_exporter": "python",
   "pygments_lexer": "ipython3",
   "version": "3.6.9"
  }
 },
 "nbformat": 4,
 "nbformat_minor": 2
}
