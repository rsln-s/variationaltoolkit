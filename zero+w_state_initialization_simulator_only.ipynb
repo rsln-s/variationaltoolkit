{
 "cells": [
  {
   "cell_type": "code",
   "execution_count": 1,
   "metadata": {},
   "outputs": [],
   "source": [
    "import qiskit\n",
    "from qiskit import QuantumCircuit, execute, Aer, IBMQ, QuantumRegister, ClassicalRegister\n",
    "from qiskit.compiler import transpile, assemble\n",
    "# from qiskit.tools.jupyter import *\n",
    "from qiskit.visualization import *\n",
    "from qiskit.providers.aer import QasmSimulator\n",
    "import numpy as np"
   ]
  },
  {
   "cell_type": "code",
   "execution_count": 2,
   "metadata": {},
   "outputs": [],
   "source": [
    "def zero_plus_w_state(zero_state_prob, n_qubits):\n",
    "    # Construct a quantum circuit that initialises qubits to a custom state\n",
    "    circ = QuantumCircuit(n_qubits, n_qubits)\n",
    "\n",
    "    # define the zero and one vector\n",
    "    zero = [1, 0]\n",
    "    one = [0, 1]\n",
    "\n",
    "    total_state = 0 # initialize total_state as 0\n",
    "    # compute the summation of single-one-states\n",
    "    for i in range(n_qubits):\n",
    "        # compute the current one-state\n",
    "        # first set up all the base cases for kron product\n",
    "        if i == n_qubits - 1:\n",
    "            current_single_one_state = np.kron(zero, one)\n",
    "        elif i == n_qubits - 2:\n",
    "            current_single_one_state = np.kron(one, zero)\n",
    "        else:\n",
    "            current_single_one_state = np.kron(zero, zero)\n",
    "        # Then tensor with the rest\n",
    "        for j in range(2, n_qubits):\n",
    "            if j == n_qubits - i - 1:\n",
    "                current_single_one_state = np.kron(one, current_single_one_state)\n",
    "            else:\n",
    "                current_single_one_state = np.kron(zero, current_single_one_state)\n",
    "        # Now add everything together\n",
    "        total_state = total_state + current_single_one_state\n",
    "    total_state = total_state * np.sqrt(1 - zero_state_prob) / np.sqrt(n_qubits) # normalization\n",
    "\n",
    "    # compute the all-zero state\n",
    "    # first set up all the base cases for kron product\n",
    "    zero_state = np.kron(zero, zero) # Base case\n",
    "    # Then tensor with the rest\n",
    "    for j in range(2, n_qubits):\n",
    "        zero_state = np.kron(zero, zero_state)\n",
    "    total_state = total_state + zero_state * np.sqrt(zero_state_prob) # add zero-state to the total state\n",
    "\n",
    "    # create a list for qubit execution\n",
    "    qubit_list = []\n",
    "    for i in range(n_qubits):\n",
    "        qubit_list.append(i)\n",
    "    circ.initialize(total_state, qubit_list)\n",
    "    circ.measure(qubit_list, qubit_list)\n",
    "\n",
    "    # Select the QasmSimulator from the Aer provider\n",
    "    simulator = Aer.get_backend('qasm_simulator')\n",
    "\n",
    "    # Execute and get counts\n",
    "    result = execute(circ, simulator, shots=50000).result()\n",
    "    counts = result.get_counts(circ)\n",
    "    return counts"
   ]
  },
  {
   "cell_type": "code",
   "execution_count": 3,
   "metadata": {},
   "outputs": [
    {
     "data": {
      "image/png": "[encoded data removed]",
      "text/plain": [
       "<Figure size 504x360 with 1 Axes>"
      ]
     },
     "execution_count": 3,
     "metadata": {},
     "output_type": "execute_result"
    }
   ],
   "source": [
    "counts = zero_plus_w_state(0.3, 7)\n",
    "plot_histogram(counts)"
   ]
  },
  {
   "cell_type": "code",
   "execution_count": null,
   "metadata": {},
   "outputs": [],
   "source": []
  }
 ],
 "metadata": {
  "kernelspec": {
   "display_name": "Python 3",
   "language": "python",
   "name": "python3"
  },
  "language_info": {
   "codemirror_mode": {
    "name": "ipython",
    "version": 3
   },
   "file_extension": ".py",
   "mimetype": "text/x-python",
   "name": "python",
   "nbconvert_exporter": "python",
   "pygments_lexer": "ipython3",
   "version": "3.6.10"
  }
 },
 "nbformat": 4,
 "nbformat_minor": 4
}
